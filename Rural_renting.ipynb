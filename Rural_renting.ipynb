{
 "cells": [
  {
   "cell_type": "code",
   "execution_count": 1,
   "metadata": {},
   "outputs": [],
   "source": [
    "import numpy as np\n",
    "import pandas as pd\n",
    "import itertools\n",
    "import matplotlib.pyplot as plt\n",
    "import seaborn as sns\n",
    "sns.set()\n",
    "from bs4 import BeautifulSoup\n",
    "import requests\n",
    "import csv"
   ]
  },
  {
   "cell_type": "code",
   "execution_count": 454,
   "metadata": {},
   "outputs": [],
   "source": [
    "headers = ({'User-Agent': 'Mozilla/5.0 (Windows NT 6.1) AppleWebKit/537.36 (KHTML, like Gecko) Chrome/41.0.2228.0 Safari/537.36'})\n",
    "\n",
    "prices_list = []\n",
    "location_list = []\n",
    "capacity_list = []\n",
    "bedroom_num_list = []\n",
    "bed_num_list = []\n",
    "    \n",
    "for i in range(0,1): # website did not allow a whole run. Needed to do by several steps and concat the data\n",
    "    \n",
    "    try:\n",
    "        website = \"https://www.escapadarural.com/casas-rurales?l=andalucia&page={}\".format(str(i))\n",
    "        source = requests.get(website, headers=headers).text\n",
    "        html_soup = BeautifulSoup(source, 'lxml')\n",
    "        house_containers = html_soup.find_all('article', class_=\"c-resultSnippet JS_resultSnippet\")\n",
    "    \n",
    "    \n",
    "        prices = html_soup.find_all('div', class_=\"c-price--average\")  \n",
    "        location = html_soup.find_all('h4', class_=\"c-h4--result\")\n",
    "        characteristics = html_soup.find_all('div', class_=\"c-result--items\")\n",
    "\n",
    "        for j in range(len(house_containers)):\n",
    "            prices_list.append(prices[j].text.strip())\n",
    "            location_list.append(location[j].text.strip())\n",
    "            capacity_list.append(characteristics[j].div.find_next(\"div\").find_next(\"div\").find_next(\"div\").text.strip())\n",
    "            bedroom_num_list.append(characteristics[j].div.find_next(\"div\").find_next(\"div\").find_next(\"div\").find_next(\"div\").find_next(\"div\").find_next(\"div\").text.strip())\n",
    "            bed_num_list.append(characteristics[j].div.find_next(\"div\").find_next(\"div\").find_next(\"div\").find_next(\"div\").find_next(\"div\").find_next(\"div\").find_next(\"div\").find_next(\"div\").find_next(\"div\").text.strip())\n",
    "            \n",
    "    except IndexError:\n",
    "        pass\n",
    "        \n",
    "house_features = (list(zip(prices_list, location_list, capacity_list, bedroom_num_list, bed_num_list)))\n",
    "\n",
    "data = pd.DataFrame(house_features, columns =[\"price_day_person\", \"location\", \"capacity\", \"bedroom_num\", \"beds_num\"])\n",
    "\n",
    "data.to_csv(\"Df_rent_rural_andalucia.csv\", index=False)"
   ]
  },
  {
   "cell_type": "code",
   "execution_count": 2,
   "metadata": {},
   "outputs": [],
   "source": [
    "df1 = pd.read_csv(\"Df_rural_huesca_12-6.csv\")"
   ]
  },
  {
   "cell_type": "code",
   "execution_count": 3,
   "metadata": {},
   "outputs": [],
   "source": [
    "df2 = pd.read_csv(\"Df_rent_rural_cantabria.csv\")"
   ]
  },
  {
   "cell_type": "code",
   "execution_count": 4,
   "metadata": {},
   "outputs": [],
   "source": [
    "df3 = pd.read_csv(\"Df_rent_rural_navarra.csv\")"
   ]
  },
  {
   "cell_type": "code",
   "execution_count": 5,
   "metadata": {},
   "outputs": [],
   "source": [
    "df4 = pd.read_csv(\"Df_rent_rural_lerida.csv\")"
   ]
  },
  {
   "cell_type": "code",
   "execution_count": 6,
   "metadata": {},
   "outputs": [],
   "source": [
    "df5 = pd.read_csv(\"Df_rent_rural_vasco.csv\")"
   ]
  },
  {
   "cell_type": "code",
   "execution_count": 7,
   "metadata": {},
   "outputs": [],
   "source": [
    "df6 = pd.read_csv(\"Df_rent_rural_girona.csv\")"
   ]
  },
  {
   "cell_type": "code",
   "execution_count": 8,
   "metadata": {},
   "outputs": [],
   "source": [
    "df7 = pd.read_csv(\"Df_rent_rural_asturias.csv\")"
   ]
  },
  {
   "cell_type": "code",
   "execution_count": 9,
   "metadata": {},
   "outputs": [],
   "source": [
    "df8 = pd.read_csv(\"Df_rent_rural_galicia.csv\")"
   ]
  },
  {
   "cell_type": "code",
   "execution_count": 10,
   "metadata": {},
   "outputs": [],
   "source": [
    "df9 = pd.read_csv(\"Df_rent_rural_andalucia.csv\")"
   ]
  },
  {
   "cell_type": "code",
   "execution_count": 11,
   "metadata": {},
   "outputs": [],
   "source": [
    "df1[\"region\"] = \"Aragon\"\n",
    "df2[\"region\"] = \"Cantabria\"\n",
    "df3[\"region\"] = \"Navarra\"\n",
    "df4[\"region\"] = \"Lerida\"\n",
    "df5[\"region\"] = \"Pais Vasco\"\n",
    "df6[\"region\"] = \"Gerona\"\n",
    "df7[\"region\"] = \"Asturias\"\n",
    "df8[\"region\"] = \"Galicia\"\n",
    "df9[\"region\"] = \"Andalucia\""
   ]
  },
  {
   "cell_type": "code",
   "execution_count": 12,
   "metadata": {},
   "outputs": [],
   "source": [
    "df = pd.concat([df1,df2,df3,df4,df5,df6,df7,df8,df9])"
   ]
  },
  {
   "cell_type": "code",
   "execution_count": 13,
   "metadata": {},
   "outputs": [],
   "source": [
    "df.drop(\"Unnamed: 0\", axis=1, inplace=True)"
   ]
  },
  {
   "cell_type": "code",
   "execution_count": 14,
   "metadata": {},
   "outputs": [
    {
     "data": {
      "text/plain": [
       "(4527, 6)"
      ]
     },
     "execution_count": 14,
     "metadata": {},
     "output_type": "execute_result"
    }
   ],
   "source": [
    "df.shape"
   ]
  },
  {
   "cell_type": "code",
   "execution_count": 15,
   "metadata": {},
   "outputs": [],
   "source": [
    "df.drop_duplicates(keep=False,inplace=True) # watch-out with duplicate values after scrapping"
   ]
  },
  {
   "cell_type": "code",
   "execution_count": 16,
   "metadata": {},
   "outputs": [
    {
     "data": {
      "text/plain": [
       "(4197, 6)"
      ]
     },
     "execution_count": 16,
     "metadata": {},
     "output_type": "execute_result"
    }
   ],
   "source": [
    "df.shape"
   ]
  },
  {
   "cell_type": "code",
   "execution_count": 17,
   "metadata": {},
   "outputs": [],
   "source": [
    "pd.set_option(\"display.max_rows\", 90)"
   ]
  },
  {
   "cell_type": "code",
   "execution_count": 18,
   "metadata": {},
   "outputs": [],
   "source": [
    "df[\"price_day_person\"] = df[\"price_day_person\"].str[:2]"
   ]
  },
  {
   "cell_type": "code",
   "execution_count": 19,
   "metadata": {},
   "outputs": [],
   "source": [
    "df[\"capacity\"] = df[\"capacity\"].apply(lambda x: x if \"personas\" in x.lower() else np.nan)\n",
    "df[\"bedroom_num\"] = df[\"bedroom_num\"].apply(lambda x: x if \"dormitorios\" in x.lower() else np.nan)\n",
    "df[\"beds_num\"] = df[\"beds_num\"].apply(lambda x: x if \"camas\" in x.lower() else np.nan)"
   ]
  },
  {
   "cell_type": "code",
   "execution_count": 20,
   "metadata": {},
   "outputs": [],
   "source": [
    "df.dropna(how=\"any\", inplace=True)"
   ]
  },
  {
   "cell_type": "code",
   "execution_count": 21,
   "metadata": {},
   "outputs": [],
   "source": [
    "df[\"capacity\"] = df[\"capacity\"].str.split(\" p\", expand=True)[0].str[-2:]"
   ]
  },
  {
   "cell_type": "code",
   "execution_count": 22,
   "metadata": {},
   "outputs": [],
   "source": [
    "df[\"bedroom_num\"] = df[\"bedroom_num\"].str.split(\" d\", expand=True)[0]"
   ]
  },
  {
   "cell_type": "code",
   "execution_count": 23,
   "metadata": {},
   "outputs": [],
   "source": [
    "df[\"beds_num\"] = df[\"beds_num\"].str.split(\" c\", expand=True)[0]"
   ]
  },
  {
   "cell_type": "code",
   "execution_count": 24,
   "metadata": {},
   "outputs": [],
   "source": [
    "df[\"price_day_person\"] = df[\"price_day_person\"].str.replace(\"€\", \"\")"
   ]
  },
  {
   "cell_type": "code",
   "execution_count": 25,
   "metadata": {},
   "outputs": [],
   "source": [
    "df=df.astype({\"price_day_person\":int, \"location\":str, \"capacity\":int, \"bedroom_num\":int, \"beds_num\":int})"
   ]
  },
  {
   "cell_type": "code",
   "execution_count": 26,
   "metadata": {},
   "outputs": [],
   "source": [
    "pivote = pd.pivot_table(df, index=[\"region\"], values=[\"price_day_person\",\"capacity\",\"bedroom_num\", \"beds_num\"], aggfunc=[\"mean\",\"sem\"]).reset_index()"
   ]
  },
  {
   "cell_type": "code",
   "execution_count": 27,
   "metadata": {},
   "outputs": [
    {
     "data": {
      "text/html": [
       "<div>\n",
       "<style scoped>\n",
       "    .dataframe tbody tr th:only-of-type {\n",
       "        vertical-align: middle;\n",
       "    }\n",
       "\n",
       "    .dataframe tbody tr th {\n",
       "        vertical-align: top;\n",
       "    }\n",
       "\n",
       "    .dataframe thead tr th {\n",
       "        text-align: left;\n",
       "    }\n",
       "</style>\n",
       "<table border=\"1\" class=\"dataframe\">\n",
       "  <thead>\n",
       "    <tr>\n",
       "      <th></th>\n",
       "      <th>region</th>\n",
       "      <th colspan=\"4\" halign=\"left\">mean</th>\n",
       "      <th colspan=\"4\" halign=\"left\">sem</th>\n",
       "    </tr>\n",
       "    <tr>\n",
       "      <th></th>\n",
       "      <th></th>\n",
       "      <th>bedroom_num</th>\n",
       "      <th>beds_num</th>\n",
       "      <th>capacity</th>\n",
       "      <th>price_day_person</th>\n",
       "      <th>bedroom_num</th>\n",
       "      <th>beds_num</th>\n",
       "      <th>capacity</th>\n",
       "      <th>price_day_person</th>\n",
       "    </tr>\n",
       "  </thead>\n",
       "  <tbody>\n",
       "    <tr>\n",
       "      <th>0</th>\n",
       "      <td>Andalucia</td>\n",
       "      <td>5.794218</td>\n",
       "      <td>11.009354</td>\n",
       "      <td>13.822279</td>\n",
       "      <td>22.426871</td>\n",
       "      <td>0.119433</td>\n",
       "      <td>0.265960</td>\n",
       "      <td>0.261366</td>\n",
       "      <td>0.193002</td>\n",
       "    </tr>\n",
       "    <tr>\n",
       "      <th>1</th>\n",
       "      <td>Aragon</td>\n",
       "      <td>5.685714</td>\n",
       "      <td>11.021429</td>\n",
       "      <td>13.560714</td>\n",
       "      <td>22.392857</td>\n",
       "      <td>0.318855</td>\n",
       "      <td>0.613739</td>\n",
       "      <td>0.647862</td>\n",
       "      <td>0.345900</td>\n",
       "    </tr>\n",
       "    <tr>\n",
       "      <th>2</th>\n",
       "      <td>Asturias</td>\n",
       "      <td>5.700000</td>\n",
       "      <td>9.600000</td>\n",
       "      <td>12.762500</td>\n",
       "      <td>22.664286</td>\n",
       "      <td>0.197638</td>\n",
       "      <td>0.303150</td>\n",
       "      <td>0.401113</td>\n",
       "      <td>0.286153</td>\n",
       "    </tr>\n",
       "    <tr>\n",
       "      <th>3</th>\n",
       "      <td>Cantabria</td>\n",
       "      <td>6.629344</td>\n",
       "      <td>12.266409</td>\n",
       "      <td>15.223938</td>\n",
       "      <td>24.092664</td>\n",
       "      <td>0.296448</td>\n",
       "      <td>0.614499</td>\n",
       "      <td>0.582447</td>\n",
       "      <td>0.480872</td>\n",
       "    </tr>\n",
       "    <tr>\n",
       "      <th>4</th>\n",
       "      <td>Galicia</td>\n",
       "      <td>5.277372</td>\n",
       "      <td>8.722628</td>\n",
       "      <td>12.375912</td>\n",
       "      <td>25.306569</td>\n",
       "      <td>0.194677</td>\n",
       "      <td>0.338854</td>\n",
       "      <td>0.447779</td>\n",
       "      <td>0.448137</td>\n",
       "    </tr>\n",
       "    <tr>\n",
       "      <th>5</th>\n",
       "      <td>Gerona</td>\n",
       "      <td>6.062992</td>\n",
       "      <td>12.139108</td>\n",
       "      <td>15.813648</td>\n",
       "      <td>29.687664</td>\n",
       "      <td>0.166310</td>\n",
       "      <td>0.375864</td>\n",
       "      <td>0.486208</td>\n",
       "      <td>0.468041</td>\n",
       "    </tr>\n",
       "    <tr>\n",
       "      <th>6</th>\n",
       "      <td>Lerida</td>\n",
       "      <td>5.548387</td>\n",
       "      <td>10.737903</td>\n",
       "      <td>13.596774</td>\n",
       "      <td>27.947581</td>\n",
       "      <td>0.218833</td>\n",
       "      <td>0.433361</td>\n",
       "      <td>0.486961</td>\n",
       "      <td>0.523640</td>\n",
       "    </tr>\n",
       "    <tr>\n",
       "      <th>7</th>\n",
       "      <td>Navarra</td>\n",
       "      <td>5.628205</td>\n",
       "      <td>10.660256</td>\n",
       "      <td>13.032051</td>\n",
       "      <td>22.945513</td>\n",
       "      <td>0.203463</td>\n",
       "      <td>0.407111</td>\n",
       "      <td>0.460109</td>\n",
       "      <td>0.350319</td>\n",
       "    </tr>\n",
       "    <tr>\n",
       "      <th>8</th>\n",
       "      <td>Pais Vasco</td>\n",
       "      <td>5.544643</td>\n",
       "      <td>10.875000</td>\n",
       "      <td>13.571429</td>\n",
       "      <td>29.125000</td>\n",
       "      <td>0.218177</td>\n",
       "      <td>0.491256</td>\n",
       "      <td>0.551661</td>\n",
       "      <td>0.768919</td>\n",
       "    </tr>\n",
       "  </tbody>\n",
       "</table>\n",
       "</div>"
      ],
      "text/plain": [
       "       region        mean                                                sem  \\\n",
       "              bedroom_num   beds_num   capacity price_day_person bedroom_num   \n",
       "0   Andalucia    5.794218  11.009354  13.822279        22.426871    0.119433   \n",
       "1      Aragon    5.685714  11.021429  13.560714        22.392857    0.318855   \n",
       "2    Asturias    5.700000   9.600000  12.762500        22.664286    0.197638   \n",
       "3   Cantabria    6.629344  12.266409  15.223938        24.092664    0.296448   \n",
       "4     Galicia    5.277372   8.722628  12.375912        25.306569    0.194677   \n",
       "5      Gerona    6.062992  12.139108  15.813648        29.687664    0.166310   \n",
       "6      Lerida    5.548387  10.737903  13.596774        27.947581    0.218833   \n",
       "7     Navarra    5.628205  10.660256  13.032051        22.945513    0.203463   \n",
       "8  Pais Vasco    5.544643  10.875000  13.571429        29.125000    0.218177   \n",
       "\n",
       "                                        \n",
       "   beds_num  capacity price_day_person  \n",
       "0  0.265960  0.261366         0.193002  \n",
       "1  0.613739  0.647862         0.345900  \n",
       "2  0.303150  0.401113         0.286153  \n",
       "3  0.614499  0.582447         0.480872  \n",
       "4  0.338854  0.447779         0.448137  \n",
       "5  0.375864  0.486208         0.468041  \n",
       "6  0.433361  0.486961         0.523640  \n",
       "7  0.407111  0.460109         0.350319  \n",
       "8  0.491256  0.551661         0.768919  "
      ]
     },
     "execution_count": 27,
     "metadata": {},
     "output_type": "execute_result"
    }
   ],
   "source": [
    "pivote"
   ]
  },
  {
   "cell_type": "code",
   "execution_count": 28,
   "metadata": {},
   "outputs": [
    {
     "data": {
      "text/plain": [
       "MultiIndex([('region',                 ''),\n",
       "            (  'mean',      'bedroom_num'),\n",
       "            (  'mean',         'beds_num'),\n",
       "            (  'mean',         'capacity'),\n",
       "            (  'mean', 'price_day_person'),\n",
       "            (   'sem',      'bedroom_num'),\n",
       "            (   'sem',         'beds_num'),\n",
       "            (   'sem',         'capacity'),\n",
       "            (   'sem', 'price_day_person')],\n",
       "           )"
      ]
     },
     "execution_count": 28,
     "metadata": {},
     "output_type": "execute_result"
    }
   ],
   "source": [
    "pivote.columns"
   ]
  },
  {
   "cell_type": "code",
   "execution_count": 29,
   "metadata": {},
   "outputs": [
    {
     "data": {
      "text/html": [
       "<div>\n",
       "<style scoped>\n",
       "    .dataframe tbody tr th:only-of-type {\n",
       "        vertical-align: middle;\n",
       "    }\n",
       "\n",
       "    .dataframe tbody tr th {\n",
       "        vertical-align: top;\n",
       "    }\n",
       "\n",
       "    .dataframe thead tr th {\n",
       "        text-align: left;\n",
       "    }\n",
       "</style>\n",
       "<table border=\"1\" class=\"dataframe\">\n",
       "  <thead>\n",
       "    <tr>\n",
       "      <th></th>\n",
       "      <th>region</th>\n",
       "      <th colspan=\"4\" halign=\"left\">mean</th>\n",
       "      <th colspan=\"4\" halign=\"left\">sem</th>\n",
       "    </tr>\n",
       "    <tr>\n",
       "      <th></th>\n",
       "      <th></th>\n",
       "      <th>bedroom_num</th>\n",
       "      <th>beds_num</th>\n",
       "      <th>capacity</th>\n",
       "      <th>price_day_person</th>\n",
       "      <th>bedroom_num</th>\n",
       "      <th>beds_num</th>\n",
       "      <th>capacity</th>\n",
       "      <th>price_day_person</th>\n",
       "    </tr>\n",
       "  </thead>\n",
       "  <tbody>\n",
       "    <tr>\n",
       "      <th>0</th>\n",
       "      <td>Andalucia</td>\n",
       "      <td>5.794218</td>\n",
       "      <td>11.009354</td>\n",
       "      <td>13.822279</td>\n",
       "      <td>22.426871</td>\n",
       "      <td>0.119433</td>\n",
       "      <td>0.265960</td>\n",
       "      <td>0.261366</td>\n",
       "      <td>0.193002</td>\n",
       "    </tr>\n",
       "    <tr>\n",
       "      <th>1</th>\n",
       "      <td>Aragon</td>\n",
       "      <td>5.685714</td>\n",
       "      <td>11.021429</td>\n",
       "      <td>13.560714</td>\n",
       "      <td>22.392857</td>\n",
       "      <td>0.318855</td>\n",
       "      <td>0.613739</td>\n",
       "      <td>0.647862</td>\n",
       "      <td>0.345900</td>\n",
       "    </tr>\n",
       "    <tr>\n",
       "      <th>2</th>\n",
       "      <td>Asturias</td>\n",
       "      <td>5.700000</td>\n",
       "      <td>9.600000</td>\n",
       "      <td>12.762500</td>\n",
       "      <td>22.664286</td>\n",
       "      <td>0.197638</td>\n",
       "      <td>0.303150</td>\n",
       "      <td>0.401113</td>\n",
       "      <td>0.286153</td>\n",
       "    </tr>\n",
       "    <tr>\n",
       "      <th>3</th>\n",
       "      <td>Cantabria</td>\n",
       "      <td>6.629344</td>\n",
       "      <td>12.266409</td>\n",
       "      <td>15.223938</td>\n",
       "      <td>24.092664</td>\n",
       "      <td>0.296448</td>\n",
       "      <td>0.614499</td>\n",
       "      <td>0.582447</td>\n",
       "      <td>0.480872</td>\n",
       "    </tr>\n",
       "    <tr>\n",
       "      <th>4</th>\n",
       "      <td>Galicia</td>\n",
       "      <td>5.277372</td>\n",
       "      <td>8.722628</td>\n",
       "      <td>12.375912</td>\n",
       "      <td>25.306569</td>\n",
       "      <td>0.194677</td>\n",
       "      <td>0.338854</td>\n",
       "      <td>0.447779</td>\n",
       "      <td>0.448137</td>\n",
       "    </tr>\n",
       "    <tr>\n",
       "      <th>5</th>\n",
       "      <td>Gerona</td>\n",
       "      <td>6.062992</td>\n",
       "      <td>12.139108</td>\n",
       "      <td>15.813648</td>\n",
       "      <td>29.687664</td>\n",
       "      <td>0.166310</td>\n",
       "      <td>0.375864</td>\n",
       "      <td>0.486208</td>\n",
       "      <td>0.468041</td>\n",
       "    </tr>\n",
       "    <tr>\n",
       "      <th>6</th>\n",
       "      <td>Lerida</td>\n",
       "      <td>5.548387</td>\n",
       "      <td>10.737903</td>\n",
       "      <td>13.596774</td>\n",
       "      <td>27.947581</td>\n",
       "      <td>0.218833</td>\n",
       "      <td>0.433361</td>\n",
       "      <td>0.486961</td>\n",
       "      <td>0.523640</td>\n",
       "    </tr>\n",
       "    <tr>\n",
       "      <th>7</th>\n",
       "      <td>Navarra</td>\n",
       "      <td>5.628205</td>\n",
       "      <td>10.660256</td>\n",
       "      <td>13.032051</td>\n",
       "      <td>22.945513</td>\n",
       "      <td>0.203463</td>\n",
       "      <td>0.407111</td>\n",
       "      <td>0.460109</td>\n",
       "      <td>0.350319</td>\n",
       "    </tr>\n",
       "    <tr>\n",
       "      <th>8</th>\n",
       "      <td>Pais Vasco</td>\n",
       "      <td>5.544643</td>\n",
       "      <td>10.875000</td>\n",
       "      <td>13.571429</td>\n",
       "      <td>29.125000</td>\n",
       "      <td>0.218177</td>\n",
       "      <td>0.491256</td>\n",
       "      <td>0.551661</td>\n",
       "      <td>0.768919</td>\n",
       "    </tr>\n",
       "  </tbody>\n",
       "</table>\n",
       "</div>"
      ],
      "text/plain": [
       "       region        mean                                                sem  \\\n",
       "              bedroom_num   beds_num   capacity price_day_person bedroom_num   \n",
       "0   Andalucia    5.794218  11.009354  13.822279        22.426871    0.119433   \n",
       "1      Aragon    5.685714  11.021429  13.560714        22.392857    0.318855   \n",
       "2    Asturias    5.700000   9.600000  12.762500        22.664286    0.197638   \n",
       "3   Cantabria    6.629344  12.266409  15.223938        24.092664    0.296448   \n",
       "4     Galicia    5.277372   8.722628  12.375912        25.306569    0.194677   \n",
       "5      Gerona    6.062992  12.139108  15.813648        29.687664    0.166310   \n",
       "6      Lerida    5.548387  10.737903  13.596774        27.947581    0.218833   \n",
       "7     Navarra    5.628205  10.660256  13.032051        22.945513    0.203463   \n",
       "8  Pais Vasco    5.544643  10.875000  13.571429        29.125000    0.218177   \n",
       "\n",
       "                                        \n",
       "   beds_num  capacity price_day_person  \n",
       "0  0.265960  0.261366         0.193002  \n",
       "1  0.613739  0.647862         0.345900  \n",
       "2  0.303150  0.401113         0.286153  \n",
       "3  0.614499  0.582447         0.480872  \n",
       "4  0.338854  0.447779         0.448137  \n",
       "5  0.375864  0.486208         0.468041  \n",
       "6  0.433361  0.486961         0.523640  \n",
       "7  0.407111  0.460109         0.350319  \n",
       "8  0.491256  0.551661         0.768919  "
      ]
     },
     "execution_count": 29,
     "metadata": {},
     "output_type": "execute_result"
    }
   ],
   "source": [
    "pivote"
   ]
  },
  {
   "cell_type": "code",
   "execution_count": 30,
   "metadata": {},
   "outputs": [],
   "source": [
    "pivote.columns =  [\"region\", \"bedroom_num\", \"beds_num\", \"capacity\", \"price_day_person\", \"bedroom_num_sem\", \"beds_num_sem\",\"capacity_sem\", \"price_day_person_sem\"] # renaming columns"
   ]
  },
  {
   "cell_type": "code",
   "execution_count": 31,
   "metadata": {},
   "outputs": [
    {
     "data": {
      "image/png": "[encoded data removed]",
      "text/plain": [
       "<Figure size 432x432 with 4 Axes>"
      ]
     },
     "metadata": {},
     "output_type": "display_data"
    }
   ],
   "source": [
    "# outliers?\n",
    "df.plot(kind='box', subplots=True, layout=(2,2), sharex=False, sharey=False, figsize=(6,6), color=\"b\")\n",
    "plt.tight_layout()\n",
    "# plt.savefig(\"boxplots\", dpi=400)\n",
    "plt.show()"
   ]
  },
  {
   "cell_type": "code",
   "execution_count": 32,
   "metadata": {},
   "outputs": [],
   "source": [
    "df = df.reset_index().drop(\"index\", axis=1)"
   ]
  },
  {
   "cell_type": "code",
   "execution_count": 33,
   "metadata": {},
   "outputs": [
    {
     "data": {
      "text/html": [
       "<div>\n",
       "<style scoped>\n",
       "    .dataframe tbody tr th:only-of-type {\n",
       "        vertical-align: middle;\n",
       "    }\n",
       "\n",
       "    .dataframe tbody tr th {\n",
       "        vertical-align: top;\n",
       "    }\n",
       "\n",
       "    .dataframe thead th {\n",
       "        text-align: right;\n",
       "    }\n",
       "</style>\n",
       "<table border=\"1\" class=\"dataframe\">\n",
       "  <thead>\n",
       "    <tr style=\"text-align: right;\">\n",
       "      <th></th>\n",
       "      <th>price_day_person</th>\n",
       "      <th>capacity</th>\n",
       "      <th>bedroom_num</th>\n",
       "      <th>beds_num</th>\n",
       "    </tr>\n",
       "  </thead>\n",
       "  <tbody>\n",
       "    <tr>\n",
       "      <th>count</th>\n",
       "      <td>3602.000000</td>\n",
       "      <td>3602.000000</td>\n",
       "      <td>3602.000000</td>\n",
       "      <td>3602.000000</td>\n",
       "    </tr>\n",
       "    <tr>\n",
       "      <th>mean</th>\n",
       "      <td>24.201277</td>\n",
       "      <td>13.746807</td>\n",
       "      <td>5.781233</td>\n",
       "      <td>10.774014</td>\n",
       "    </tr>\n",
       "    <tr>\n",
       "      <th>std</th>\n",
       "      <td>7.620750</td>\n",
       "      <td>9.000711</td>\n",
       "      <td>4.097317</td>\n",
       "      <td>8.233203</td>\n",
       "    </tr>\n",
       "    <tr>\n",
       "      <th>min</th>\n",
       "      <td>8.000000</td>\n",
       "      <td>2.000000</td>\n",
       "      <td>2.000000</td>\n",
       "      <td>2.000000</td>\n",
       "    </tr>\n",
       "    <tr>\n",
       "      <th>25%</th>\n",
       "      <td>19.000000</td>\n",
       "      <td>8.000000</td>\n",
       "      <td>3.000000</td>\n",
       "      <td>6.000000</td>\n",
       "    </tr>\n",
       "    <tr>\n",
       "      <th>50%</th>\n",
       "      <td>23.000000</td>\n",
       "      <td>12.000000</td>\n",
       "      <td>5.000000</td>\n",
       "      <td>9.000000</td>\n",
       "    </tr>\n",
       "    <tr>\n",
       "      <th>75%</th>\n",
       "      <td>28.000000</td>\n",
       "      <td>17.000000</td>\n",
       "      <td>7.000000</td>\n",
       "      <td>13.000000</td>\n",
       "    </tr>\n",
       "    <tr>\n",
       "      <th>max</th>\n",
       "      <td>75.000000</td>\n",
       "      <td>96.000000</td>\n",
       "      <td>50.000000</td>\n",
       "      <td>124.000000</td>\n",
       "    </tr>\n",
       "  </tbody>\n",
       "</table>\n",
       "</div>"
      ],
      "text/plain": [
       "       price_day_person     capacity  bedroom_num     beds_num\n",
       "count       3602.000000  3602.000000  3602.000000  3602.000000\n",
       "mean          24.201277    13.746807     5.781233    10.774014\n",
       "std            7.620750     9.000711     4.097317     8.233203\n",
       "min            8.000000     2.000000     2.000000     2.000000\n",
       "25%           19.000000     8.000000     3.000000     6.000000\n",
       "50%           23.000000    12.000000     5.000000     9.000000\n",
       "75%           28.000000    17.000000     7.000000    13.000000\n",
       "max           75.000000    96.000000    50.000000   124.000000"
      ]
     },
     "execution_count": 33,
     "metadata": {},
     "output_type": "execute_result"
    }
   ],
   "source": [
    "df.describe()"
   ]
  },
  {
   "cell_type": "code",
   "execution_count": 34,
   "metadata": {},
   "outputs": [],
   "source": [
    "df_num = df.select_dtypes(include=[\"int32\", \"float64\"])"
   ]
  },
  {
   "cell_type": "code",
   "execution_count": 35,
   "metadata": {},
   "outputs": [
    {
     "name": "stdout",
     "output_type": "stream",
     "text": [
      "Skewness\n",
      "price_day_person: 1.4588609532579002\n",
      "capacity: 2.6013548143335887\n",
      "bedroom_num: 3.7174634957350063\n",
      "beds_num: 4.31336053211737\n"
     ]
    }
   ],
   "source": [
    "print(\"Skewness\")\n",
    "for i in df_num.columns:\n",
    "    print(\"{}:\".format(i), df[i].skew()) "
   ]
  },
  {
   "cell_type": "code",
   "execution_count": 36,
   "metadata": {},
   "outputs": [
    {
     "name": "stdout",
     "output_type": "stream",
     "text": [
      "Skewness\n",
      "price_day_person sqrt transformed: 0.8219666612383667\n",
      "capacity sqrt transformed: 1.2066714091766728\n",
      "bedroom_num sqrt transformed: 1.7098767483570438\n",
      "beds_num sqrt transformed: 1.6029857223643058\n",
      "====================================================\n",
      "price_day_person boxcox transformed: 0.2566460441747172\n",
      "capacity boxcox transformed: 0.2656338961556168\n",
      "bedroom_num boxcox transformed: 0.5375301179505377\n",
      "beds_num boxcox transformed: 0.28267586526583727\n"
     ]
    }
   ],
   "source": [
    "from scipy import stats\n",
    "from scipy.special import boxcox, inv_boxcox\n",
    "\n",
    "print(\"Skewness\")\n",
    "\n",
    "for i in df_num.columns:\n",
    "    print(\"{} sqrt transformed:\".format(i), np.sqrt(df[i]).skew())\n",
    "    \n",
    "print(\"====================================================\")\n",
    "\n",
    "for i in df_num.columns:\n",
    "    print(\"{} boxcox transformed:\".format(i), boxcox(df[i],0).skew())"
   ]
  },
  {
   "cell_type": "code",
   "execution_count": 37,
   "metadata": {},
   "outputs": [],
   "source": [
    "df_num_sqrt = pd.DataFrame()\n",
    "df_num_boxcox = pd.DataFrame()"
   ]
  },
  {
   "cell_type": "code",
   "execution_count": 38,
   "metadata": {},
   "outputs": [],
   "source": [
    "for i in df_num.columns:\n",
    "    df_num_sqrt[i] = np.sqrt(df[i])\n",
    "    \n",
    "for i in df_num.columns:\n",
    "    df_num_boxcox[i] = boxcox(df[i],0)"
   ]
  },
  {
   "cell_type": "code",
   "execution_count": 39,
   "metadata": {},
   "outputs": [
    {
     "data": {
      "image/png": "[encoded data removed]",
      "text/plain": [
       "<Figure size 432x432 with 4 Axes>"
      ]
     },
     "metadata": {},
     "output_type": "display_data"
    }
   ],
   "source": [
    "fig, ((ax1,ax2),(ax3,ax4)) = plt.subplots(2,2, figsize=(6,6))\n",
    "\n",
    "ax1.hist(df_num_boxcox[\"price_day_person\"],color=\"k\", bins=30)\n",
    "ax1.set_title(\"Price per day per person\")\n",
    "ax2.hist(df_num_boxcox[\"capacity\"],color=\"b\", bins=30)\n",
    "ax2.set_title(\"Capacity\")\n",
    "ax3.hist(df_num_boxcox[\"bedroom_num\"],color=\"grey\", bins=30)\n",
    "ax3.set_title(\"Bedroom number\")\n",
    "ax4.hist(df_num_boxcox[\"beds_num\"],color=\"r\", bins=30)\n",
    "ax4.set_title(\"Beds number\")\n",
    "\n",
    "plt.tight_layout()\n",
    "# plt.savefig(\"hist_no_transformation.png\", dpi=400)\n",
    "plt.show()"
   ]
  },
  {
   "cell_type": "code",
   "execution_count": 40,
   "metadata": {},
   "outputs": [
    {
     "data": {
      "image/png": "[encoded data removed]",
      "text/plain": [
       "<Figure size 432x288 with 2 Axes>"
      ]
     },
     "metadata": {},
     "output_type": "display_data"
    }
   ],
   "source": [
    "colormap=plt.cm.magma\n",
    "plt.title(\"Pearson corr\", y=1.05, size=15)\n",
    "sns.heatmap(df_num_boxcox.corr(), linewidths=0.1, vmax=1.0, square=True, cmap=colormap, linecolor=\"white\", annot=True)\n",
    "# plt.savefig(\"corr.png\", dpi=400)\n",
    "plt.tight_layout()\n",
    "plt.show()"
   ]
  },
  {
   "cell_type": "code",
   "execution_count": 41,
   "metadata": {},
   "outputs": [
    {
     "data": {
      "text/html": [
       "<div>\n",
       "<style scoped>\n",
       "    .dataframe tbody tr th:only-of-type {\n",
       "        vertical-align: middle;\n",
       "    }\n",
       "\n",
       "    .dataframe tbody tr th {\n",
       "        vertical-align: top;\n",
       "    }\n",
       "\n",
       "    .dataframe thead th {\n",
       "        text-align: right;\n",
       "    }\n",
       "</style>\n",
       "<table border=\"1\" class=\"dataframe\">\n",
       "  <thead>\n",
       "    <tr style=\"text-align: right;\">\n",
       "      <th></th>\n",
       "      <th>price_day_person</th>\n",
       "      <th>location</th>\n",
       "      <th>capacity</th>\n",
       "      <th>bedroom_num</th>\n",
       "      <th>beds_num</th>\n",
       "      <th>region</th>\n",
       "    </tr>\n",
       "  </thead>\n",
       "  <tbody>\n",
       "    <tr>\n",
       "      <th>0</th>\n",
       "      <td>51</td>\n",
       "      <td>Belsierre</td>\n",
       "      <td>71</td>\n",
       "      <td>29</td>\n",
       "      <td>54</td>\n",
       "      <td>Aragon</td>\n",
       "    </tr>\n",
       "    <tr>\n",
       "      <th>1</th>\n",
       "      <td>18</td>\n",
       "      <td>Panzano</td>\n",
       "      <td>22</td>\n",
       "      <td>9</td>\n",
       "      <td>18</td>\n",
       "      <td>Aragon</td>\n",
       "    </tr>\n",
       "    <tr>\n",
       "      <th>2</th>\n",
       "      <td>19</td>\n",
       "      <td>Saravillo</td>\n",
       "      <td>30</td>\n",
       "      <td>15</td>\n",
       "      <td>25</td>\n",
       "      <td>Aragon</td>\n",
       "    </tr>\n",
       "    <tr>\n",
       "      <th>3</th>\n",
       "      <td>30</td>\n",
       "      <td>Boltaña</td>\n",
       "      <td>17</td>\n",
       "      <td>6</td>\n",
       "      <td>14</td>\n",
       "      <td>Aragon</td>\n",
       "    </tr>\n",
       "    <tr>\n",
       "      <th>4</th>\n",
       "      <td>29</td>\n",
       "      <td>Escalona</td>\n",
       "      <td>96</td>\n",
       "      <td>40</td>\n",
       "      <td>69</td>\n",
       "      <td>Aragon</td>\n",
       "    </tr>\n",
       "    <tr>\n",
       "      <th>...</th>\n",
       "      <td>...</td>\n",
       "      <td>...</td>\n",
       "      <td>...</td>\n",
       "      <td>...</td>\n",
       "      <td>...</td>\n",
       "      <td>...</td>\n",
       "    </tr>\n",
       "    <tr>\n",
       "      <th>3597</th>\n",
       "      <td>34</td>\n",
       "      <td>El Castillo de las Guardas</td>\n",
       "      <td>12</td>\n",
       "      <td>5</td>\n",
       "      <td>12</td>\n",
       "      <td>Andalucia</td>\n",
       "    </tr>\n",
       "    <tr>\n",
       "      <th>3598</th>\n",
       "      <td>37</td>\n",
       "      <td>Andújar</td>\n",
       "      <td>7</td>\n",
       "      <td>4</td>\n",
       "      <td>5</td>\n",
       "      <td>Andalucia</td>\n",
       "    </tr>\n",
       "    <tr>\n",
       "      <th>3599</th>\n",
       "      <td>21</td>\n",
       "      <td>El Castillo de las Guardas</td>\n",
       "      <td>13</td>\n",
       "      <td>5</td>\n",
       "      <td>12</td>\n",
       "      <td>Andalucia</td>\n",
       "    </tr>\n",
       "    <tr>\n",
       "      <th>3600</th>\n",
       "      <td>21</td>\n",
       "      <td>Fuensanta de Martos</td>\n",
       "      <td>5</td>\n",
       "      <td>3</td>\n",
       "      <td>5</td>\n",
       "      <td>Andalucia</td>\n",
       "    </tr>\n",
       "    <tr>\n",
       "      <th>3601</th>\n",
       "      <td>29</td>\n",
       "      <td>Álora</td>\n",
       "      <td>5</td>\n",
       "      <td>3</td>\n",
       "      <td>4</td>\n",
       "      <td>Andalucia</td>\n",
       "    </tr>\n",
       "  </tbody>\n",
       "</table>\n",
       "<p>3602 rows × 6 columns</p>\n",
       "</div>"
      ],
      "text/plain": [
       "      price_day_person                    location  capacity  bedroom_num  \\\n",
       "0                   51                   Belsierre        71           29   \n",
       "1                   18                     Panzano        22            9   \n",
       "2                   19                   Saravillo        30           15   \n",
       "3                   30                     Boltaña        17            6   \n",
       "4                   29                    Escalona        96           40   \n",
       "...                ...                         ...       ...          ...   \n",
       "3597                34  El Castillo de las Guardas        12            5   \n",
       "3598                37                     Andújar         7            4   \n",
       "3599                21  El Castillo de las Guardas        13            5   \n",
       "3600                21         Fuensanta de Martos         5            3   \n",
       "3601                29                       Álora         5            3   \n",
       "\n",
       "      beds_num     region  \n",
       "0           54     Aragon  \n",
       "1           18     Aragon  \n",
       "2           25     Aragon  \n",
       "3           14     Aragon  \n",
       "4           69     Aragon  \n",
       "...        ...        ...  \n",
       "3597        12  Andalucia  \n",
       "3598         5  Andalucia  \n",
       "3599        12  Andalucia  \n",
       "3600         5  Andalucia  \n",
       "3601         4  Andalucia  \n",
       "\n",
       "[3602 rows x 6 columns]"
      ]
     },
     "execution_count": 41,
     "metadata": {},
     "output_type": "execute_result"
    }
   ],
   "source": [
    "df"
   ]
  },
  {
   "cell_type": "code",
   "execution_count": 42,
   "metadata": {},
   "outputs": [],
   "source": [
    "pivote.sort_values(\"price_day_person\", inplace=True)"
   ]
  },
  {
   "cell_type": "code",
   "execution_count": 43,
   "metadata": {},
   "outputs": [
    {
     "data": {
      "image/png": "[encoded data removed]",
      "text/plain": [
       "<Figure size 1080x720 with 1 Axes>"
      ]
     },
     "metadata": {},
     "output_type": "display_data"
    }
   ],
   "source": [
    "plt.rcParams[\"figure.figsize\"] = (15,10)\n",
    "sns.barplot(x=pivote[\"region\"],y=pivote[\"price_day_person\"], data=pivote, yerr=pivote[\"price_day_person_sem\"], palette=\"Blues_d\")\n",
    "plt.ylabel(\"Average Rural Rental Houses in different Regions of Spain\", fontsize=20, labelpad=30)\n",
    "plt.xticks(rotation=90, fontsize=14)\n",
    "plt.yticks(rotation=90, fontsize=14)\n",
    "plt.ylim(10,35)\n",
    "plt.tight_layout()\n",
    "plt.savefig(\"Huesca_rent_price.png\", dpi=400)\n",
    "plt.show()"
   ]
  },
  {
   "cell_type": "code",
   "execution_count": 44,
   "metadata": {},
   "outputs": [
    {
     "data": {
      "text/plain": [
       "9"
      ]
     },
     "execution_count": 44,
     "metadata": {},
     "output_type": "execute_result"
    }
   ],
   "source": [
    "len(df[\"region\"].unique())"
   ]
  },
  {
   "cell_type": "code",
   "execution_count": 45,
   "metadata": {},
   "outputs": [
    {
     "data": {
      "image/png": "[encoded data removed]",
      "text/plain": [
       "<Figure size 1080x360 with 2 Axes>"
      ]
     },
     "metadata": {},
     "output_type": "display_data"
    }
   ],
   "source": [
    "\n",
    "xx = np.arange(len(df[\"region\"].unique()))\n",
    "ticks_x = list(pivote[\"region\"].unique())\n",
    "\n",
    "fig, ax1 = plt.subplots(1,figsize=(15,5))\n",
    "ax1.bar(xx-0.1, pivote[\"price_day_person\"] , width=0.20, color='b', align=\"center\", yerr=pivote[\"price_day_person_sem\"], label=\"price_day_person\")\n",
    "ax2.set_ylabel('capacity')\n",
    "ax1.set(ylim=(10,35))\n",
    "ax1.set_ylabel('Price per day per person', labelpad=20)\n",
    "ax1.legend()\n",
    "\n",
    "ax2 = ax1.twinx() \n",
    "ax2.set_ylabel('Max Capacity', rotation=270, labelpad=25)\n",
    "ax2.set(ylim=(10,20))\n",
    "ax2.grid(False) # Removes the grid from the second plot\n",
    "ax2.bar(xx+0.1, pivote[\"capacity\"], width=0.20, color='darkred', align=\"center\", yerr=pivote[\"capacity_sem\"], label=\"capacity\")\n",
    "ax2.legend()\n",
    "plt.xticks(ticks=xx,labels=ticks_x, rotation=45)\n",
    "plt.savefig(\"barstack.png\", dpi=400)\n",
    "plt.show()"
   ]
  },
  {
   "cell_type": "code",
   "execution_count": 46,
   "metadata": {},
   "outputs": [
    {
     "ename": "IndentationError",
     "evalue": "expected an indented block (<ipython-input-46-cca1d88faf09>, line 14)",
     "output_type": "error",
     "traceback": [
      "\u001b[1;36m  File \u001b[1;32m\"<ipython-input-46-cca1d88faf09>\"\u001b[1;36m, line \u001b[1;32m14\u001b[0m\n\u001b[1;33m    kfold = KFold(n_splits=10, random_state=seed)\u001b[0m\n\u001b[1;37m        ^\u001b[0m\n\u001b[1;31mIndentationError\u001b[0m\u001b[1;31m:\u001b[0m expected an indented block\n"
     ]
    }
   ],
   "source": [
    "# If we want to get a general idea of produc performance before model tunning, do this:\n",
    "\n",
    "models = []\n",
    "models.append(('LR', LogisticRegression()))\n",
    "models.append(('LDA', LinearDiscriminantAnalysis()))\n",
    "models.append(('KNN', KNeighborsClassifier()))\n",
    "models.append(('CART', DecisionTreeClassifier()))\n",
    "models.append(('NB', GaussianNB()))\n",
    "models.append(('SVM', SVC()))\n",
    "# evaluate each model in turn\n",
    "results = []\n",
    "names = []\n",
    "for name, model in models:\n",
    "kfold = KFold(n_splits=10, random_state=seed)\n",
    "cv_results = cross_val_score(model, X_train, Y_train, cv=kfold, scoring='accuracy')\n",
    "results.append(cv_results)\n",
    "names.append(name)\n",
    "msg = \"%s: %f (%f)\" % (name, cv_results.mean(), cv_results.std())\n",
    "print(msg)"
   ]
  },
  {
   "cell_type": "code",
   "execution_count": null,
   "metadata": {},
   "outputs": [],
   "source": [
    "# Next, we can select the model and tune the model with GridSearchCV. For instance LogisticRegression()\n",
    "\n",
    "from sklearn.model_selection import GridSearchCV #This will take a while to run\n",
    "parameters = {'n_estimators': range(10,300,10), \"criterion\": (\"mse\",\"mae\"), \"max_features\":(\"auto\",\"sqrt\",\"log2\")} \n",
    "gs=GridSearchCV(LogisticRegression(),parameters, scoring=\"neg_mean_absolute_error\", cv=3)\n",
    "gs.fit(x_train, y_train)\n"
   ]
  }
 ],
 "metadata": {
  "kernelspec": {
   "display_name": "your_env_name",
   "language": "python",
   "name": "your_env_name"
  },
  "language_info": {
   "codemirror_mode": {
    "name": "ipython",
    "version": 3
   },
   "file_extension": ".py",
   "mimetype": "text/x-python",
   "name": "python",
   "nbconvert_exporter": "python",
   "pygments_lexer": "ipython3",
   "version": "3.7.4"
  }
 },
 "nbformat": 4,
 "nbformat_minor": 4
}
